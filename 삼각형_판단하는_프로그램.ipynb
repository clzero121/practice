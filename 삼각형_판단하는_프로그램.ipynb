{
  "nbformat": 4,
  "nbformat_minor": 0,
  "metadata": {
    "colab": {
      "provenance": [],
      "authorship_tag": "ABX9TyN2EHZz947s86TYFb01RpNx",
      "include_colab_link": true
    },
    "kernelspec": {
      "name": "python3",
      "display_name": "Python 3"
    },
    "language_info": {
      "name": "python"
    }
  },
  "cells": [
    {
      "cell_type": "markdown",
      "metadata": {
        "id": "view-in-github",
        "colab_type": "text"
      },
      "source": [
        "<a href=\"https://colab.research.google.com/github/clzero121/practice/blob/main/%EC%82%BC%EA%B0%81%ED%98%95_%ED%8C%90%EB%8B%A8%ED%95%98%EB%8A%94_%ED%94%84%EB%A1%9C%EA%B7%B8%EB%9E%A8.ipynb\" target=\"_parent\"><img src=\"https://colab.research.google.com/assets/colab-badge.svg\" alt=\"Open In Colab\"/></a>"
      ]
    },
    {
      "cell_type": "code",
      "execution_count": 8,
      "metadata": {
        "colab": {
          "base_uri": "https://localhost:8080/"
        },
        "id": "sVHX67fjwa_A",
        "outputId": "49b6b46f-12e3-4b4f-e1b4-3a2ccc491a1e"
      },
      "outputs": [
        {
          "output_type": "stream",
          "name": "stdout",
          "text": [
            "삼각형\n"
          ]
        }
      ],
      "source": [
        "# @title 코드\n",
        "a = 5 # @param {\"type\":\"number\"}\n",
        "b = 3 # @param {\"type\":\"number\"}\n",
        "c = 3 # @param {\"type\":\"number\"}\n",
        "\n",
        "# a가 제일 길다는 가정\n",
        "if b + c > a:\n",
        "  if(a==b==c):\n",
        "    print(\"정삼각형\")\n",
        "  elif (a**2 == b**2 + c**2):\n",
        "    print(\"직각삼각형\")\n",
        "  else:\n",
        "    print(\"삼각형\")\n",
        "else:\n",
        "  print(\"삼각형이 아님\")"
      ]
    },
    {
      "cell_type": "markdown",
      "source": [
        "# 삼각형을 판단하자\n",
        "\n",
        "세 변의 길이가 주어지면 어떤 삼각형인지 판단하고 싶다.\n",
        "\n",
        "삼각형일 조건 > b + c > a   \n",
        "- a == b == c   : 정삼각형   \n",
        "- a²= b²+ c²: 직각삼각형"
      ],
      "metadata": {
        "id": "QUOOW4UwxzMZ"
      }
    }
  ]
}